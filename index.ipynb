{
 "cells": [
  {
   "cell_type": "markdown",
   "metadata": {},
   "source": [
    "# Logistic Regression - Recap\n",
    "\n",
    "## Introduction\n",
    "\n",
    "Well done! In this section you learned about a different supervised learning technique: classification.\n",
    "\n",
    "You also reviewed maximum likelihood estimation and saw how it applies to logistic regression. This included writing some challenging code, including gradient descent, which pushed you to think critically regarding algorithm implementation.\n",
    "\n",
    "## Logistic Regression\n",
    "\n",
    "Specifically, you practiced building a very basic classification model from scratch - a logistic regression model. Logistic regression uses a sigmoid function which helps to plot an \"s\"-like curve that enables a linear function to act as a binary classifier.\n",
    "\n",
    "## Log-likelihoods in Maximum Likelihood Estimation\n",
    "\n",
    "One of the nuances you saw in maximum likelihood estimation was that of log-likelihoods. Recall that the purpose of taking log-likelihoods as opposed to likelihoods themselves is that it allows us to decompose the product of probabilities as sums of log probabilities. Analytically, this is essential to calculating subsequent gradients in order to find the next steps for our optimization algorithm.\n",
    "\n",
    "\n",
    "## Local Minima in Gradient Descent\n",
    "\n",
    "One of the most important notes from this section is that **gradient descent does not guarantee an optimal solution**. Gradient descent is meant to find optimal solutions, but it only guarantees a local minimum. For this reason, gradient descent is frequently run multiple times, and the parameters with the lowest loss function then being selected for the final model.\n",
    "\n",
    "\n",
    "## Summary\n",
    "\n",
    "This section was designed to give you additional practice coding algorithms in Python, and a deeper understanding of how iterative algorithms such as logistic regression converge to produce underlying model parameters."
   ]
  }
 ],
 "metadata": {
  "kernelspec": {
   "display_name": "Python 3",
   "language": "python",
   "name": "python3"
  },
  "language_info": {
   "codemirror_mode": {
    "name": "ipython",
    "version": 3
   },
   "file_extension": ".py",
   "mimetype": "text/x-python",
   "name": "python",
   "nbconvert_exporter": "python",
   "pygments_lexer": "ipython3",
   "version": "3.8.5"
  }
 },
 "nbformat": 4,
 "nbformat_minor": 2
}
